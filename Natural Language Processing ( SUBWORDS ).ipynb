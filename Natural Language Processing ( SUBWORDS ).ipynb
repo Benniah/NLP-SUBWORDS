{
 "cells": [
  {
   "cell_type": "markdown",
   "metadata": {},
   "source": [
    "# SUBWORDS"
   ]
  },
  {
   "cell_type": "markdown",
   "metadata": {},
   "source": [
    "Subwords are words which use some of the letters of a subject. For example, \"meal\" is a subword of \"Michael\" as it uses four of its seven letters. "
   ]
  },
  {
   "cell_type": "markdown",
   "metadata": {},
   "source": [
    "In this notebook we use these subwords to check how they impact our network and related embeddings..."
   ]
  },
  {
   "cell_type": "markdown",
   "metadata": {},
   "source": [
    "# Setup"
   ]
  },
  {
   "cell_type": "code",
   "execution_count": 16,
   "metadata": {},
   "outputs": [],
   "source": [
    "import pandas as pd\n",
    "import numpy as np\n",
    "import matplotlib.pyplot as plt\n",
    "import io\n",
    "import tensorflow_datasets as tfds\n",
    "import tensorflow as tf\n",
    "from tensorflow.keras.preprocessing.sequence import pad_sequences"
   ]
  },
  {
   "cell_type": "markdown",
   "metadata": {},
   "source": [
    "# Get Data"
   ]
  },
  {
   "cell_type": "code",
   "execution_count": 2,
   "metadata": {},
   "outputs": [
    {
     "name": "stdout",
     "output_type": "stream",
     "text": [
      "/Users/apple/.keras/datasets/reviews.csv\n"
     ]
    }
   ],
   "source": [
    "path = tf.keras.utils.get_file('reviews.csv', \n",
    "                               'https://drive.google.com/uc?id=13ySLC_ue6Umt9RJYSeM2t-V0kCv-4C-P')\n",
    "print (path)"
   ]
  },
  {
   "cell_type": "code",
   "execution_count": 3,
   "metadata": {},
   "outputs": [
    {
     "data": {
      "text/html": [
       "<div>\n",
       "<style scoped>\n",
       "    .dataframe tbody tr th:only-of-type {\n",
       "        vertical-align: middle;\n",
       "    }\n",
       "\n",
       "    .dataframe tbody tr th {\n",
       "        vertical-align: top;\n",
       "    }\n",
       "\n",
       "    .dataframe thead th {\n",
       "        text-align: right;\n",
       "    }\n",
       "</style>\n",
       "<table border=\"1\" class=\"dataframe\">\n",
       "  <thead>\n",
       "    <tr style=\"text-align: right;\">\n",
       "      <th></th>\n",
       "      <th>Unnamed: 0</th>\n",
       "      <th>text</th>\n",
       "      <th>sentiment</th>\n",
       "    </tr>\n",
       "  </thead>\n",
       "  <tbody>\n",
       "    <tr>\n",
       "      <th>0</th>\n",
       "      <td>0</td>\n",
       "      <td>So there is no way for me to plug it in here i...</td>\n",
       "      <td>0</td>\n",
       "    </tr>\n",
       "    <tr>\n",
       "      <th>1</th>\n",
       "      <td>1</td>\n",
       "      <td>Good case Excellent value.</td>\n",
       "      <td>1</td>\n",
       "    </tr>\n",
       "    <tr>\n",
       "      <th>2</th>\n",
       "      <td>2</td>\n",
       "      <td>Great for the jawbone.</td>\n",
       "      <td>1</td>\n",
       "    </tr>\n",
       "    <tr>\n",
       "      <th>3</th>\n",
       "      <td>3</td>\n",
       "      <td>Tied to charger for conversations lasting more...</td>\n",
       "      <td>0</td>\n",
       "    </tr>\n",
       "    <tr>\n",
       "      <th>4</th>\n",
       "      <td>4</td>\n",
       "      <td>The mic is great.</td>\n",
       "      <td>1</td>\n",
       "    </tr>\n",
       "  </tbody>\n",
       "</table>\n",
       "</div>"
      ],
      "text/plain": [
       "   Unnamed: 0                                               text  sentiment\n",
       "0           0  So there is no way for me to plug it in here i...          0\n",
       "1           1                         Good case Excellent value.          1\n",
       "2           2                             Great for the jawbone.          1\n",
       "3           3  Tied to charger for conversations lasting more...          0\n",
       "4           4                                  The mic is great.          1"
      ]
     },
     "execution_count": 3,
     "metadata": {},
     "output_type": "execute_result"
    }
   ],
   "source": [
    "# Read the csv file\n",
    "dataset = pd.read_csv(path)\n",
    "\n",
    "# Review the first few entries in the dataset\n",
    "dataset.head()"
   ]
  },
  {
   "cell_type": "code",
   "execution_count": 4,
   "metadata": {},
   "outputs": [],
   "source": [
    "# Just extract out sentences and labels first - we will create subwords here\n",
    "sentences = dataset['text'].tolist()\n",
    "labels = dataset['sentiment'].tolist()"
   ]
  },
  {
   "cell_type": "markdown",
   "metadata": {},
   "source": [
    "# Create a subwords dataset"
   ]
  },
  {
   "cell_type": "markdown",
   "metadata": {},
   "source": [
    "We can use the existing Amazon and Yelp reviews dataset with tensorflow_datasets's SubwordTextEncoder functionality. SubwordTextEncoder.build_from_corpus() will create a tokenizer for us. You could also use this functionality to get subwords from a much larger corpus of text as well, but we'll just use our existing dataset here.\n",
    "\n",
    "The Amazon and Yelp dataset we are using isn't super large, so we'll create a subword vocab_size of only the 1,000 most common words, as well as cutting off each subword to be at most 5 characters."
   ]
  },
  {
   "cell_type": "code",
   "execution_count": 5,
   "metadata": {},
   "outputs": [],
   "source": [
    "vocab_size = 1000\n",
    "tokenizer = tfds.features.text.SubwordTextEncoder.build_from_corpus(sentences, vocab_size, max_subword_length=5)"
   ]
  },
  {
   "cell_type": "code",
   "execution_count": 6,
   "metadata": {},
   "outputs": [
    {
     "name": "stdout",
     "output_type": "stream",
     "text": [
      "I have to jiggle the plug to get it to line up right to get decent volume.\n",
      "[4, 31, 6, 849, 162, 450, 12, 1, 600, 438, 775, 6, 175, 14, 6, 55, 213, 159, 474, 775, 6, 175, 614, 380, 295, 148, 72, 789]\n",
      "I \n",
      "have \n",
      "to \n",
      "j\n",
      "ig\n",
      "gl\n",
      "e \n",
      "the \n",
      "pl\n",
      "ug\n",
      " \n",
      "to \n",
      "get \n",
      "it \n",
      "to \n",
      "li\n",
      "ne \n",
      "up \n",
      "right\n",
      " \n",
      "to \n",
      "get \n",
      "dec\n",
      "ent \n",
      "vo\n",
      "lu\n",
      "me\n",
      ".\n"
     ]
    }
   ],
   "source": [
    "# Check that the tokenizer works appropriately\n",
    "num = 5\n",
    "print(sentences[num])\n",
    "encoded = tokenizer.encode(sentences[num])\n",
    "print(encoded)\n",
    "# Separately print out each subword, decoded\n",
    "for i in encoded:\n",
    "  print(tokenizer.decode([i]))"
   ]
  },
  {
   "cell_type": "markdown",
   "metadata": {},
   "source": [
    "# Replace sentence data with encoded subwords"
   ]
  },
  {
   "cell_type": "markdown",
   "metadata": {},
   "source": [
    "Now, we'll re-create the dataset to be used for training by actually encoding each of the individual sentences. This is equivalent to text_to_sequences with the Tokenizer we used in our previous Notebook."
   ]
  },
  {
   "cell_type": "code",
   "execution_count": 7,
   "metadata": {},
   "outputs": [],
   "source": [
    "for i, sentence in enumerate(sentences):\n",
    "  sentences[i] = tokenizer.encode(sentence)"
   ]
  },
  {
   "cell_type": "code",
   "execution_count": 8,
   "metadata": {},
   "outputs": [
    {
     "name": "stdout",
     "output_type": "stream",
     "text": [
      "[625, 677, 626, 274, 380, 633, 148, 844, 789]\n"
     ]
    }
   ],
   "source": [
    "# Check the sentences are appropriately replaced\n",
    "print(sentences[1])"
   ]
  },
  {
   "cell_type": "markdown",
   "metadata": {},
   "source": [
    "# Final pre-processing"
   ]
  },
  {
   "cell_type": "markdown",
   "metadata": {},
   "source": [
    "Before training, we still need to pad the sequences, as well as split into training and test sets."
   ]
  },
  {
   "cell_type": "code",
   "execution_count": 10,
   "metadata": {},
   "outputs": [],
   "source": [
    "max_length = 50\n",
    "trunc_type='post'\n",
    "padding_type='post'\n",
    "\n",
    "# Pad all sentences\n",
    "sentences_padded = pad_sequences(sentences, maxlen=max_length, \n",
    "                                 padding=padding_type, truncating=trunc_type)\n",
    "\n",
    "# Separate out the sentences and labels into training and test sets\n",
    "training_size = int(len(sentences) * 0.8)\n",
    "\n",
    "training_sentences = sentences_padded[0:training_size]\n",
    "testing_sentences = sentences_padded[training_size:]\n",
    "training_labels = labels[0:training_size]\n",
    "testing_labels = labels[training_size:]\n",
    "\n",
    "# Make labels into numpy arrays for use with the network later\n",
    "training_labels_final = np.array(training_labels)\n",
    "testing_labels_final = np.array(testing_labels)"
   ]
  },
  {
   "cell_type": "markdown",
   "metadata": {},
   "source": [
    "# Train the Sentiment Model"
   ]
  },
  {
   "cell_type": "code",
   "execution_count": 11,
   "metadata": {},
   "outputs": [
    {
     "name": "stdout",
     "output_type": "stream",
     "text": [
      "Model: \"sequential\"\n",
      "_________________________________________________________________\n",
      "Layer (type)                 Output Shape              Param #   \n",
      "=================================================================\n",
      "embedding (Embedding)        (None, 50, 16)            16000     \n",
      "_________________________________________________________________\n",
      "global_average_pooling1d (Gl (None, 16)                0         \n",
      "_________________________________________________________________\n",
      "dense (Dense)                (None, 6)                 102       \n",
      "_________________________________________________________________\n",
      "dense_1 (Dense)              (None, 1)                 7         \n",
      "=================================================================\n",
      "Total params: 16,109\n",
      "Trainable params: 16,109\n",
      "Non-trainable params: 0\n",
      "_________________________________________________________________\n"
     ]
    }
   ],
   "source": [
    "embedding_dim = 16\n",
    "model = tf.keras.Sequential([\n",
    "    tf.keras.layers.Embedding(vocab_size, embedding_dim, input_length=max_length),\n",
    "    tf.keras.layers.GlobalAveragePooling1D(),\n",
    "    tf.keras.layers.Dense(6, activation='relu'),\n",
    "    tf.keras.layers.Dense(1, activation='sigmoid')\n",
    "])\n",
    "\n",
    "model.summary()"
   ]
  },
  {
   "cell_type": "code",
   "execution_count": 12,
   "metadata": {},
   "outputs": [
    {
     "name": "stdout",
     "output_type": "stream",
     "text": [
      "Train on 1593 samples, validate on 399 samples\n",
      "Epoch 1/30\n",
      "1593/1593 [==============================] - 1s 522us/sample - loss: 0.6926 - accuracy: 0.5298 - val_loss: 0.6927 - val_accuracy: 0.5063\n",
      "Epoch 2/30\n",
      "1593/1593 [==============================] - 0s 84us/sample - loss: 0.6902 - accuracy: 0.6146 - val_loss: 0.6910 - val_accuracy: 0.5589\n",
      "Epoch 3/30\n",
      "1593/1593 [==============================] - 0s 75us/sample - loss: 0.6859 - accuracy: 0.6196 - val_loss: 0.6875 - val_accuracy: 0.5614\n",
      "Epoch 4/30\n",
      "1593/1593 [==============================] - 0s 85us/sample - loss: 0.6761 - accuracy: 0.6930 - val_loss: 0.6793 - val_accuracy: 0.6366\n",
      "Epoch 5/30\n",
      "1593/1593 [==============================] - 0s 74us/sample - loss: 0.6597 - accuracy: 0.7288 - val_loss: 0.6690 - val_accuracy: 0.6316\n",
      "Epoch 6/30\n",
      "1593/1593 [==============================] - 0s 74us/sample - loss: 0.6365 - accuracy: 0.7564 - val_loss: 0.6519 - val_accuracy: 0.6692\n",
      "Epoch 7/30\n",
      "1593/1593 [==============================] - 0s 72us/sample - loss: 0.6062 - accuracy: 0.7891 - val_loss: 0.6371 - val_accuracy: 0.6642\n",
      "Epoch 8/30\n",
      "1593/1593 [==============================] - 0s 74us/sample - loss: 0.5697 - accuracy: 0.8129 - val_loss: 0.6087 - val_accuracy: 0.6942\n",
      "Epoch 9/30\n",
      "1593/1593 [==============================] - 0s 75us/sample - loss: 0.5299 - accuracy: 0.8299 - val_loss: 0.5733 - val_accuracy: 0.7769\n",
      "Epoch 10/30\n",
      "1593/1593 [==============================] - 0s 75us/sample - loss: 0.4917 - accuracy: 0.8424 - val_loss: 0.5574 - val_accuracy: 0.7494\n",
      "Epoch 11/30\n",
      "1593/1593 [==============================] - 0s 76us/sample - loss: 0.4541 - accuracy: 0.8525 - val_loss: 0.5373 - val_accuracy: 0.7644\n",
      "Epoch 12/30\n",
      "1593/1593 [==============================] - 0s 70us/sample - loss: 0.4214 - accuracy: 0.8657 - val_loss: 0.5355 - val_accuracy: 0.7469\n",
      "Epoch 13/30\n",
      "1593/1593 [==============================] - 0s 70us/sample - loss: 0.3925 - accuracy: 0.8694 - val_loss: 0.5268 - val_accuracy: 0.7444\n",
      "Epoch 14/30\n",
      "1593/1593 [==============================] - 0s 73us/sample - loss: 0.3657 - accuracy: 0.8745 - val_loss: 0.5154 - val_accuracy: 0.7519\n",
      "Epoch 15/30\n",
      "1593/1593 [==============================] - 0s 72us/sample - loss: 0.3422 - accuracy: 0.8820 - val_loss: 0.5098 - val_accuracy: 0.7519\n",
      "Epoch 16/30\n",
      "1593/1593 [==============================] - 0s 72us/sample - loss: 0.3232 - accuracy: 0.8851 - val_loss: 0.5030 - val_accuracy: 0.7594\n",
      "Epoch 17/30\n",
      "1593/1593 [==============================] - 0s 76us/sample - loss: 0.3049 - accuracy: 0.8927 - val_loss: 0.5041 - val_accuracy: 0.7519\n",
      "Epoch 18/30\n",
      "1593/1593 [==============================] - 0s 74us/sample - loss: 0.2913 - accuracy: 0.8977 - val_loss: 0.5128 - val_accuracy: 0.7519\n",
      "Epoch 19/30\n",
      "1593/1593 [==============================] - 0s 94us/sample - loss: 0.2761 - accuracy: 0.9021 - val_loss: 0.4999 - val_accuracy: 0.7569\n",
      "Epoch 20/30\n",
      "1593/1593 [==============================] - 0s 90us/sample - loss: 0.2647 - accuracy: 0.9090 - val_loss: 0.5197 - val_accuracy: 0.7494\n",
      "Epoch 21/30\n",
      "1593/1593 [==============================] - 0s 80us/sample - loss: 0.2523 - accuracy: 0.9096 - val_loss: 0.5028 - val_accuracy: 0.7519\n",
      "Epoch 22/30\n",
      "1593/1593 [==============================] - 0s 77us/sample - loss: 0.2420 - accuracy: 0.9171 - val_loss: 0.5372 - val_accuracy: 0.7469\n",
      "Epoch 23/30\n",
      "1593/1593 [==============================] - 0s 71us/sample - loss: 0.2310 - accuracy: 0.9171 - val_loss: 0.5575 - val_accuracy: 0.7444\n",
      "Epoch 24/30\n",
      "1593/1593 [==============================] - 0s 87us/sample - loss: 0.2219 - accuracy: 0.9228 - val_loss: 0.5261 - val_accuracy: 0.7569\n",
      "Epoch 25/30\n",
      "1593/1593 [==============================] - 0s 90us/sample - loss: 0.2151 - accuracy: 0.9234 - val_loss: 0.5431 - val_accuracy: 0.7444\n",
      "Epoch 26/30\n",
      "1593/1593 [==============================] - 0s 84us/sample - loss: 0.2066 - accuracy: 0.9303 - val_loss: 0.5362 - val_accuracy: 0.7494\n",
      "Epoch 27/30\n",
      "1593/1593 [==============================] - 0s 90us/sample - loss: 0.1997 - accuracy: 0.9347 - val_loss: 0.5532 - val_accuracy: 0.7469\n",
      "Epoch 28/30\n",
      "1593/1593 [==============================] - 0s 72us/sample - loss: 0.1914 - accuracy: 0.9385 - val_loss: 0.5704 - val_accuracy: 0.7469\n",
      "Epoch 29/30\n",
      "1593/1593 [==============================] - 0s 73us/sample - loss: 0.1844 - accuracy: 0.9429 - val_loss: 0.5722 - val_accuracy: 0.7494\n",
      "Epoch 30/30\n",
      "1593/1593 [==============================] - 0s 84us/sample - loss: 0.1794 - accuracy: 0.9404 - val_loss: 0.5647 - val_accuracy: 0.7494\n"
     ]
    }
   ],
   "source": [
    "num_epochs = 30\n",
    "model.compile(loss='binary_crossentropy',optimizer='adam',metrics=['accuracy'])\n",
    "history = model.fit(training_sentences, training_labels_final, epochs=num_epochs, \n",
    "                    validation_data=(testing_sentences, testing_labels_final))"
   ]
  },
  {
   "cell_type": "markdown",
   "metadata": {},
   "source": [
    "# Visualize the Training Graph"
   ]
  },
  {
   "cell_type": "markdown",
   "metadata": {},
   "source": [
    "We can now visualize the training graph again. will there be a difference in how validation accuracy and loss  trend compared to with full words?"
   ]
  },
  {
   "cell_type": "code",
   "execution_count": 14,
   "metadata": {},
   "outputs": [
    {
     "data": {
      "image/png": "[encoded data removed]",
      "text/plain": [
       "<Figure size 432x288 with 1 Axes>"
      ]
     },
     "metadata": {
      "needs_background": "light"
     },
     "output_type": "display_data"
    },
    {
     "data": {
      "image/png": "[encoded data removed]",
      "text/plain": [
       "<Figure size 432x288 with 1 Axes>"
      ]
     },
     "metadata": {
      "needs_background": "light"
     },
     "output_type": "display_data"
    }
   ],
   "source": [
    "def plot_graphs(history, string):\n",
    "  plt.plot(history.history[string])\n",
    "  plt.plot(history.history['val_'+string])\n",
    "  plt.xlabel(\"Epochs\")\n",
    "  plt.ylabel(string)\n",
    "  plt.legend([string, 'val_'+string])\n",
    "  plt.show()\n",
    "  \n",
    "plot_graphs(history, \"accuracy\")\n",
    "plot_graphs(history, \"loss\")"
   ]
  },
  {
   "cell_type": "markdown",
   "metadata": {},
   "source": [
    "# Get files for visualizing the network"
   ]
  },
  {
   "cell_type": "markdown",
   "metadata": {},
   "source": [
    "Once again, you can visualize the sentiment related to all of the subwords using the below code and by heading to http://projector.tensorflow.org/ to upload and view the data.\n",
    "\n",
    "Note that the below code does have a few small changes to handle the different way text is encoded in our dataset compared to before with the built in Tokenizer.\n",
    "\n",
    "You may get an error like \"Number of tensors (999) do not match the number of lines in metadata (992).\" As long as you load the vectors first without error and wait a few seconds after this pops up, you will be able to click outside the file load menu and still view the visualization."
   ]
  },
  {
   "cell_type": "code",
   "execution_count": 15,
   "metadata": {},
   "outputs": [
    {
     "name": "stdout",
     "output_type": "stream",
     "text": [
      "(1000, 16)\n"
     ]
    }
   ],
   "source": [
    "# First get the weights of the embedding layer\n",
    "e = model.layers[0]\n",
    "weights = e.get_weights()[0]\n",
    "print(weights.shape) # shape: (vocab_size, embedding_dim)"
   ]
  },
  {
   "cell_type": "code",
   "execution_count": 18,
   "metadata": {},
   "outputs": [],
   "source": [
    "# Write out the embedding vectors and metadata\n",
    "out_v = io.open('vecs.tsv', 'w', encoding='utf-8')\n",
    "out_m = io.open('meta.tsv', 'w', encoding='utf-8')\n",
    "for word_num in range(0, vocab_size - 1):\n",
    "  word = tokenizer.decode([word_num])\n",
    "  embeddings = weights[word_num]\n",
    "  out_m.write(word + \"\\n\")\n",
    "  out_v.write('\\t'.join([str(x) for x in embeddings]) + \"\\n\")\n",
    "out_v.close()\n",
    "out_m.close()"
   ]
  },
  {
   "cell_type": "code",
   "execution_count": 19,
   "metadata": {},
   "outputs": [],
   "source": [
    "# Download the files\n",
    "try:\n",
    "  from google.colab import files\n",
    "except ImportError:\n",
    "  pass\n",
    "else:\n",
    "  files.download('vecs.tsv')\n",
    "  files.download('meta.tsv')"
   ]
  },
  {
   "cell_type": "code",
   "execution_count": null,
   "metadata": {},
   "outputs": [],
   "source": []
  }
 ],
 "metadata": {
  "kernelspec": {
   "display_name": "Python [conda env:py3-TF2.0]",
   "language": "python",
   "name": "conda-env-py3-TF2.0-py"
  },
  "language_info": {
   "codemirror_mode": {
    "name": "ipython",
    "version": 3
   },
   "file_extension": ".py",
   "mimetype": "text/x-python",
   "name": "python",
   "nbconvert_exporter": "python",
   "pygments_lexer": "ipython3",
   "version": "3.7.7"
  }
 },
 "nbformat": 4,
 "nbformat_minor": 4
}
